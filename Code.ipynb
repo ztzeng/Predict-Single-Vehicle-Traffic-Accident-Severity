{
 "cells": [
  {
   "cell_type": "code",
   "execution_count": 5,
   "metadata": {},
   "outputs": [],
   "source": [
    "import time\n",
    "from pyspark import SparkContext, SparkConf\n",
    "from pyspark.sql import SparkSession\n",
    "from pyspark.sql.types import *"
   ]
  },
  {
   "cell_type": "code",
   "execution_count": 6,
   "metadata": {},
   "outputs": [],
   "source": [
    "# conf = SparkConf().setAppName(\"App\")\n",
    "# sc = SparkContext(conf = conf)\n",
    "# ss = SparkSession.builder.getOrCreate()"
   ]
  },
  {
   "cell_type": "markdown",
   "metadata": {
    "scrolled": true
   },
   "source": [
    "# The Road Ahead\n",
    "---\n",
    "We break the notebook into separate steps.  Feel free to use the links below to navigate the notebook.\n",
    "\n",
    "* [Step 1](#step1): Import Datasets From Mongodb\n",
    "* [Step 2](#step2): Data Preprocessing\n",
    "* [Step 3](#step3): Data Engineering\n",
    "* [Step 4](#step4): Modeling\n",
    "* [Step 5](#step5): Prediction and Model Evaluation\n",
    "\n",
    "<a id='step1'></a>"
   ]
  },
  {
   "cell_type": "markdown",
   "metadata": {},
   "source": [
    "## Step 1: Import Datasets From Mongodb"
   ]
  },
  {
   "cell_type": "code",
   "execution_count": 1,
   "metadata": {},
   "outputs": [],
   "source": [
    "import os\n",
    "pyspark_submit_args = '--packages org.mongodb.spark:mongo-spark-connector_2.11:2.4.0 pyspark-shell'\n",
    "os.environ[\"PYSPARK_SUBMIT_ARGS\"] = pyspark_submit_args"
   ]
  },
  {
   "cell_type": "code",
   "execution_count": 2,
   "metadata": {},
   "outputs": [],
   "source": [
    "from pyspark.sql import SparkSession\n",
    "\n",
    "spark = SparkSession \\\n",
    "    .builder \\\n",
    "    .appName(\"myApp\") \\\n",
    "    .config(\"spark.mongodb.input.uri\", \"mongodb://54.186.235.165/mydb.accident\")\\\n",
    "    .getOrCreate()"
   ]
  },
  {
   "cell_type": "markdown",
   "metadata": {},
   "source": [
    "### Define our own schema"
   ]
  },
  {
   "cell_type": "code",
   "execution_count": 8,
   "metadata": {},
   "outputs": [],
   "source": [
    "accidentSchema = StructType([ StructField(\"Accident_Index\", StringType(), True), \n",
    "                         StructField('1st_Road_Class', StringType(), True),\n",
    "                         StructField('1st_Road_Number', FloatType(), True), \n",
    "                         StructField(\"2nd_Road_Class\", StringType(), True),\n",
    "                         StructField('2nd_Road_Number', FloatType(), True), \n",
    "                         StructField(\"Accident_Severity\", StringType(), True),\n",
    "                         StructField(\"Carriageway_Hazards\", StringType(), True), \n",
    "                         StructField(\"Date\", StringType(), True),\n",
    "                         StructField('Day_of_Week', StringType(), True), \n",
    "                         StructField(\"Did_Police_Officer_Attend_Scene_of_Accident\", FloatType(), True),\n",
    "                         StructField(\"Junction_Control\", StringType(), True),\n",
    "                         StructField('Junction_Detail', StringType(), True), \n",
    "                         StructField(\"Latitude\", FloatType(), True),\n",
    "                         StructField(\"Light_Conditions\", StringType(), True),\n",
    "                         StructField(\"Local_Authority_(District)\", StringType(), True),\n",
    "                         StructField(\"Local_Authority_(Highway)\", StringType(), True),\n",
    "                         StructField('Location_Easting_OSGR', FloatType(), True), \n",
    "                         StructField(\"Location_Northing_OSGR\", FloatType(), True),\n",
    "                         StructField(\"Longitude\", FloatType(), True),\n",
    "                         StructField(\"LSOA_of_Accident_Location\", StringType(), True),\n",
    "                         StructField(\"Number_of_Casualties\", FloatType(), True),\n",
    "                         StructField(\"Number_of_Vehicles\", FloatType(), True),\n",
    "                         StructField('Pedestrian_Crossing-Human_Control', FloatType(), True), \n",
    "                         StructField(\"Pedestrian_Crossing-Physical_Facilities\", FloatType(), True),\n",
    "                         StructField(\"Police_Force\", StringType(), True),\n",
    "                         StructField(\"Road_Surface_Conditions\", StringType(), True),\n",
    "                         StructField('Road_Type', StringType(), True), \n",
    "                         StructField(\"Special_Conditions_at_Site\", StringType(), True),\n",
    "                         StructField(\"Speed_limit\", FloatType(), True),\n",
    "                         StructField('Time', StringType(), True), \n",
    "                         StructField(\"Urban_or_Rural_Area\", StringType(), True),\n",
    "                         StructField(\"Weather_Conditions\", StringType(), True),\n",
    "                         StructField(\"Year\", FloatType(), True),\n",
    "                         StructField(\"InScotland\", StringType(), True),\n",
    "                       ])"
   ]
  },
  {
   "cell_type": "code",
   "execution_count": 9,
   "metadata": {},
   "outputs": [],
   "source": [
    "carSchema = StructType([StructField(\"Accident_Index\", StringType(), True),\n",
    "                        StructField(\"Age_Band_of_Driver\", StringType(), True),\n",
    "                        StructField('Age_of_Vehicle', FloatType(), True),\n",
    "                        StructField(\"Driver_Home_Area_Type\",StringType(), True),\n",
    "                        StructField('Driver_IMD_Decile', FloatType(), True),\n",
    "                        StructField(\"Engine_Capacity_.CC\", FloatType(), True),\n",
    "                        StructField(\"Hit_Object_in_Carriageway\",StringType(), True),\n",
    "                        StructField(\"Hit_Object_off_Carriageway\",StringType(), True),\n",
    "                        StructField('Journey_Purpose_of_Driver',StringType(), True),\n",
    "                        StructField(\"Junction_Location\", StringType(), True),\n",
    "                        StructField(\"make\", StringType(), True),\n",
    "                        StructField('model', StringType(), True),\n",
    "                        StructField(\"Propulsion_Code\", StringType(), True),\n",
    "                        StructField(\"Sex_of_Driver\", StringType(), True),\n",
    "                        StructField(\"Skidding_and_Overturning\",StringType(), True),\n",
    "                        StructField(\"Towing_and_Articulation\",StringType(), True),\n",
    "                        StructField('Vehicle_Leaving_Carriageway',StringType(), True),\n",
    "                        StructField(\"Vehicle_Location_Restricted_Lane\", StringType(), True),\n",
    "                        StructField(\"Vehicle_Manoeuvre\", StringType(), True),\n",
    "                        StructField(\"Vehicle_Reference\", StringType(), True),\n",
    "                        StructField(\"Vehicle_Type\", StringType(), True),\n",
    "                        StructField(\"Was_Vehicle_Left_Hand_Drive\",StringType(), True),\n",
    "                        StructField('X1st_Point_of_Impact',StringType(), True),\n",
    "                        StructField(\"Year\", FloatType(), True),\n",
    "                        StructField(\"Accident_Severity\", StringType(), True),\n",
    "                        ])"
   ]
  },
  {
   "cell_type": "markdown",
   "metadata": {},
   "source": [
    "### Load two datasets"
   ]
  },
  {
   "cell_type": "code",
   "execution_count": 7,
   "metadata": {},
   "outputs": [],
   "source": [
    "accident_df = spark.read.format(\"com.mongodb.spark.sql.DefaultSource\").load(schema=accidentSchema)"
   ]
  },
  {
   "cell_type": "code",
   "execution_count": 8,
   "metadata": {},
   "outputs": [
    {
     "name": "stdout",
     "output_type": "stream",
     "text": [
      "+--------------+------------------+--------------+---------------------+-----------------+----------------+-------------------------+--------------------------+-------------------------+--------------------+---------------+-------------+------------------------+-----------------------+---------------------------+----------------+-----------------+-----------------+------------+---------------------------+--------------------+----+--------------------+----+-----+\n",
      "|Accident_Index|Age_Band_of_Driver|Age_of_Vehicle|Driver_Home_Area_Type|Driver_IMD_Decile|Engine_Capacity_|Hit_Object_in_Carriageway|Hit_Object_off_Carriageway|Journey_Purpose_of_Driver|   Junction_Location|Propulsion_Code|Sex_of_Driver|Skidding_and_Overturning|Towing_and_Articulation|Vehicle_Leaving_Carriageway|Vehicle_Location|Vehicle_Manoeuvre|Vehicle_Reference|Vehicle_Type|Was_Vehicle_Left_Hand_Drive|X1st_Point_of_Impact|Year|                 _id|make|model|\n",
      "+--------------+------------------+--------------+---------------------+-----------------+----------------+-------------------------+--------------------------+-------------------------+--------------------+---------------+-------------+------------------------+-----------------------+---------------------------+----------------+-----------------+-----------------+------------+---------------------------+--------------------+----+--------------------+----+-----+\n",
      "| 200401BS00002|           26 - 35|            NA|           Urban area|                3|            [NA]|                     None|                      None|     Data missing or o...|Data missing or o...|             NA|         Male|                    None|    No tow/articulation|       Did not leave car...|             [0]|Going ahead other|                1|         109|       Data missing or o...|               Front|2004|[5c41539c64289480...| BMW|   C1|\n",
      "+--------------+------------------+--------------+---------------------+-----------------+----------------+-------------------------+--------------------------+-------------------------+--------------------+---------------+-------------+------------------------+-----------------------+---------------------------+----------------+-----------------+-----------------+------------+---------------------------+--------------------+----+--------------------+----+-----+\n",
      "only showing top 1 row\n",
      "\n"
     ]
    }
   ],
   "source": [
    "accident_df.show(1)"
   ]
  },
  {
   "cell_type": "code",
   "execution_count": 4,
   "metadata": {},
   "outputs": [],
   "source": [
    "spark2 = SparkSession \\\n",
    "    .builder \\\n",
    "    .appName(\"myApp\") \\\n",
    "    .config(\"spark.mongodb.input.uri\", \"mongodb://54.186.235.165/mydb.car\")\\\n",
    "    .getOrCreate()"
   ]
  },
  {
   "cell_type": "code",
   "execution_count": 5,
   "metadata": {},
   "outputs": [],
   "source": [
    "vehicle_df = spark2.read.format(\"com.mongodb.spark.sql.DefaultSource\").load(schema=carSchema)"
   ]
  },
  {
   "cell_type": "code",
   "execution_count": 9,
   "metadata": {},
   "outputs": [
    {
     "name": "stdout",
     "output_type": "stream",
     "text": [
      "+--------------+------------------+--------------+---------------------+-----------------+----------------+-------------------------+--------------------------+-------------------------+--------------------+---------------+-------------+------------------------+-----------------------+---------------------------+----------------+-----------------+-----------------+------------+---------------------------+--------------------+----+--------------------+----+-----+\n",
      "|Accident_Index|Age_Band_of_Driver|Age_of_Vehicle|Driver_Home_Area_Type|Driver_IMD_Decile|Engine_Capacity_|Hit_Object_in_Carriageway|Hit_Object_off_Carriageway|Journey_Purpose_of_Driver|   Junction_Location|Propulsion_Code|Sex_of_Driver|Skidding_and_Overturning|Towing_and_Articulation|Vehicle_Leaving_Carriageway|Vehicle_Location|Vehicle_Manoeuvre|Vehicle_Reference|Vehicle_Type|Was_Vehicle_Left_Hand_Drive|X1st_Point_of_Impact|Year|                 _id|make|model|\n",
      "+--------------+------------------+--------------+---------------------+-----------------+----------------+-------------------------+--------------------------+-------------------------+--------------------+---------------+-------------+------------------------+-----------------------+---------------------------+----------------+-----------------+-----------------+------------+---------------------------+--------------------+----+--------------------+----+-----+\n",
      "| 200401BS00002|           26 - 35|            NA|           Urban area|                3|            [NA]|                     None|                      None|     Data missing or o...|Data missing or o...|             NA|         Male|                    None|    No tow/articulation|       Did not leave car...|             [0]|Going ahead other|                1|         109|       Data missing or o...|               Front|2004|[5c41539c64289480...| BMW|   C1|\n",
      "+--------------+------------------+--------------+---------------------+-----------------+----------------+-------------------------+--------------------------+-------------------------+--------------------+---------------+-------------+------------------------+-----------------------+---------------------------+----------------+-----------------+-----------------+------------+---------------------------+--------------------+----+--------------------+----+-----+\n",
      "only showing top 1 row\n",
      "\n"
     ]
    }
   ],
   "source": [
    "vehicle_df.show(1)"
   ]
  },
  {
   "cell_type": "markdown",
   "metadata": {},
   "source": [
    "<a id='step2'></a>\n",
    "## Step 2: Data Preprocessing"
   ]
  },
  {
   "cell_type": "markdown",
   "metadata": {},
   "source": [
    "### Select the data and features we are interested in"
   ]
  },
  {
   "cell_type": "markdown",
   "metadata": {},
   "source": [
    "*For Accident Dataset*"
   ]
  },
  {
   "cell_type": "code",
   "execution_count": 11,
   "metadata": {},
   "outputs": [],
   "source": [
    "accident_df = accident_df[(accident_df.Number_of_Vehicles == 1) & (\n",
    "    accident_df.Year <= 2016)]"
   ]
  },
  {
   "cell_type": "code",
   "execution_count": 12,
   "metadata": {},
   "outputs": [],
   "source": [
    "accident_features = ['Accident_Index',\n",
    "                     '1st_Road_Class',\n",
    "                     '1st_Road_Number',\n",
    "                     'Accident_Severity',\n",
    "                     'Carriageway_Hazards',\n",
    "                     'Day_of_Week',\n",
    "                     'Junction_Detail',\n",
    "                     'Light_Conditions',\n",
    "                     'Number_of_Vehicles',\n",
    "                     'Pedestrian_Crossing-Human_Control',\n",
    "                     'Pedestrian_Crossing-Physical_Facilities',\n",
    "                     'Police_Force',\n",
    "                     'Road_Surface_Conditions',\n",
    "                     'Road_Type',\n",
    "                     'Special_Conditions_at_Site',\n",
    "                     'Speed_limit',\n",
    "                     'Urban_or_Rural_Area',\n",
    "                     'Weather_Conditions']"
   ]
  },
  {
   "cell_type": "code",
   "execution_count": 13,
   "metadata": {},
   "outputs": [],
   "source": [
    "df_1=accident_df[accident_features]"
   ]
  },
  {
   "cell_type": "markdown",
   "metadata": {},
   "source": [
    "*For Car Dataset*"
   ]
  },
  {
   "cell_type": "code",
   "execution_count": 16,
   "metadata": {},
   "outputs": [],
   "source": [
    "vehicle_features = ['Accident_Index',\n",
    "                     'Age_Band_of_Driver',\n",
    "                     'Age_of_Vehicle',\n",
    "                     'Driver_Home_Area_Type',\n",
    "                     'Propulsion_Code',\n",
    "                     'Sex_of_Driver',\n",
    "                     'Towing_and_Articulation',\n",
    "                     'Vehicle_Location_Restricted_Lane',\n",
    "                     'Vehicle_Manoeuvre',\n",
    "                     'Vehicle_Type']"
   ]
  },
  {
   "cell_type": "code",
   "execution_count": 17,
   "metadata": {},
   "outputs": [],
   "source": [
    "df_2 = vehicle_df[vehicle_features]"
   ]
  },
  {
   "cell_type": "markdown",
   "metadata": {},
   "source": [
    "### Join two tables"
   ]
  },
  {
   "cell_type": "code",
   "execution_count": 18,
   "metadata": {},
   "outputs": [],
   "source": [
    "joined = df_1.join(df_2,\"Accident_Index\",\"left_outer\")"
   ]
  },
  {
   "cell_type": "code",
   "execution_count": 19,
   "metadata": {},
   "outputs": [],
   "source": [
    "joined_labeled = joined.where(\n",
    "    \"Accident_Severity == 'Slight' or Accident_Severity == 'Serious' or Accident_Severity == 'Fatal'\")"
   ]
  },
  {
   "cell_type": "code",
   "execution_count": 20,
   "metadata": {
    "scrolled": true
   },
   "outputs": [
    {
     "data": {
      "text/plain": [
       "['Accident_Index',\n",
       " '1st_Road_Class',\n",
       " '1st_Road_Number',\n",
       " 'Accident_Severity',\n",
       " 'Carriageway_Hazards',\n",
       " 'Day_of_Week',\n",
       " 'Junction_Detail',\n",
       " 'Light_Conditions',\n",
       " 'Number_of_Vehicles',\n",
       " 'Pedestrian_Crossing-Human_Control',\n",
       " 'Pedestrian_Crossing-Physical_Facilities',\n",
       " 'Police_Force',\n",
       " 'Road_Surface_Conditions',\n",
       " 'Road_Type',\n",
       " 'Special_Conditions_at_Site',\n",
       " 'Speed_limit',\n",
       " 'Urban_or_Rural_Area',\n",
       " 'Weather_Conditions',\n",
       " 'Age_Band_of_Driver',\n",
       " 'Age_of_Vehicle',\n",
       " 'Driver_Home_Area_Type',\n",
       " 'Propulsion_Code',\n",
       " 'Sex_of_Driver',\n",
       " 'Towing_and_Articulation',\n",
       " 'Vehicle_Location_Restricted_Lane',\n",
       " 'Vehicle_Manoeuvre',\n",
       " 'Vehicle_Type']"
      ]
     },
     "execution_count": 20,
     "metadata": {},
     "output_type": "execute_result"
    }
   ],
   "source": [
    "joined_labeled.columns"
   ]
  },
  {
   "cell_type": "markdown",
   "metadata": {},
   "source": [
    "<a id='step3'></a>\n",
    "## Step 3: Data Engineering"
   ]
  },
  {
   "cell_type": "markdown",
   "metadata": {},
   "source": [
    "### Missing Value Imputation"
   ]
  },
  {
   "cell_type": "markdown",
   "metadata": {},
   "source": [
    "1. For **FloatType** cols, impute with **mean**\n",
    "\n",
    "2. For **StringType** cols, impute with **\"empty\"** "
   ]
  },
  {
   "cell_type": "code",
   "execution_count": 21,
   "metadata": {},
   "outputs": [],
   "source": [
    "Numeric_col = ['1st_Road_Number',\n",
    " 'Pedestrian_Crossing-Human_Control',\n",
    " 'Pedestrian_Crossing-Physical_Facilities',\n",
    " 'Speed_limit',\n",
    " 'Age_of_Vehicle']\n",
    "Numeric_col2 = ['1st_Road_Number_2',\n",
    " 'Pedestrian_Crossing-Human_Control_2',\n",
    " 'Pedestrian_Crossing-Physical_Facilities_2',\n",
    " 'Speed_limit_2',\n",
    " 'Age_of_Vehicle_2']\n",
    "String_col = ['1st_Road_Class',\n",
    " 'Carriageway_Hazards',\n",
    " 'Day_of_Week',\n",
    " 'Junction_Detail',\n",
    " 'Light_Conditions',\n",
    " 'Police_Force',\n",
    " 'Road_Surface_Conditions',\n",
    " 'Road_Type',\n",
    " 'Special_Conditions_at_Site',\n",
    " 'Urban_or_Rural_Area',\n",
    " 'Weather_Conditions',\n",
    " 'Age_Band_of_Driver',\n",
    " 'Driver_Home_Area_Type',\n",
    " 'Propulsion_Code',\n",
    " 'Sex_of_Driver',\n",
    " 'Towing_and_Articulation',\n",
    " 'Vehicle_Location_Restricted_Lane',\n",
    " 'Vehicle_Manoeuvre',\n",
    " 'Vehicle_Type','Accident_Severity']"
   ]
  },
  {
   "cell_type": "code",
   "execution_count": 22,
   "metadata": {},
   "outputs": [],
   "source": [
    "from pyspark.ml.feature import Imputer\n",
    "\n",
    "imputer = Imputer(inputCols = Numeric_col, outputCols= Numeric_col2)\n",
    "model = imputer.fit(joined_labeled).transform(joined_labeled)\n",
    "filled = model.select(Numeric_col2+String_col)"
   ]
  },
  {
   "cell_type": "code",
   "execution_count": 23,
   "metadata": {},
   "outputs": [],
   "source": [
    "joined_labeled_filled = filled.na.fill(\"empty\", String_col)"
   ]
  },
  {
   "cell_type": "markdown",
   "metadata": {},
   "source": [
    "### Encode and Assemble Features"
   ]
  },
  {
   "cell_type": "code",
   "execution_count": 25,
   "metadata": {},
   "outputs": [],
   "source": [
    "from pyspark.ml.feature import StringIndexer\n",
    "\n",
    "def indexStringColumns(df, cols):\n",
    "    newdf = df\n",
    "    for c in cols:\n",
    "        si = StringIndexer(inputCol=c, outputCol=c+\"-num\").setHandleInvalid(\"keep\")\n",
    "        sm = si.fit(newdf)\n",
    "        newdf = sm.transform(newdf).drop(c)\n",
    "        newdf = newdf.withColumnRenamed(c+\"-num\", c)\n",
    "    return newdf\n",
    "\n",
    "dfnumeric = indexStringColumns(joined_labeled_filled, String_col)"
   ]
  },
  {
   "cell_type": "code",
   "execution_count": 26,
   "metadata": {},
   "outputs": [],
   "source": [
    "from pyspark.ml.feature import OneHotEncoder\n",
    "\n",
    "def oneHotEncodeColumns(df, cols):  \n",
    "    newdf = df\n",
    "    for c in cols:\n",
    "        onehotenc = OneHotEncoder(inputCol=c, outputCol=c+\"-onehot\")\n",
    "        newdf = onehotenc.transform(newdf).drop(c)\n",
    "        newdf = newdf.withColumnRenamed(c+\"-onehot\", c)\n",
    "    return newdf\n",
    "\n",
    "dfhot = oneHotEncodeColumns(dfnumeric,String_col[0:-1])"
   ]
  },
  {
   "cell_type": "code",
   "execution_count": 27,
   "metadata": {},
   "outputs": [],
   "source": [
    "features = ['1st_Road_Number_2',\n",
    " 'Pedestrian_Crossing-Human_Control_2',\n",
    " 'Pedestrian_Crossing-Physical_Facilities_2',\n",
    " 'Speed_limit_2',\n",
    " 'Age_of_Vehicle_2',\n",
    " '1st_Road_Class',\n",
    " 'Carriageway_Hazards',\n",
    " 'Day_of_Week',\n",
    " 'Junction_Detail',\n",
    " 'Light_Conditions',\n",
    " 'Police_Force',\n",
    " 'Road_Surface_Conditions',\n",
    " 'Road_Type',\n",
    " 'Special_Conditions_at_Site',\n",
    " 'Urban_or_Rural_Area',\n",
    " 'Weather_Conditions',\n",
    " 'Age_Band_of_Driver',\n",
    " 'Driver_Home_Area_Type',\n",
    " 'Propulsion_Code',\n",
    " 'Sex_of_Driver',\n",
    " 'Towing_and_Articulation',\n",
    " 'Vehicle_Location_Restricted_Lane',\n",
    " 'Vehicle_Manoeuvre',\n",
    " 'Vehicle_Type']"
   ]
  },
  {
   "cell_type": "code",
   "execution_count": 92,
   "metadata": {},
   "outputs": [
    {
     "name": "stdout",
     "output_type": "stream",
     "text": [
      "+-----------------+-----------------------------------+-----------------------------------------+-------------+----------------+-----------------+--------------+-------------------+-------------+---------------+----------------+---------------+-----------------------+-------------+--------------------------+-------------------+------------------+------------------+---------------------+---------------+-------------+-----------------------+--------------------------------+-----------------+--------------+\n",
      "|1st_Road_Number_2|Pedestrian_Crossing-Human_Control_2|Pedestrian_Crossing-Physical_Facilities_2|Speed_limit_2|Age_of_Vehicle_2|Accident_Severity|1st_Road_Class|Carriageway_Hazards|  Day_of_Week|Junction_Detail|Light_Conditions|   Police_Force|Road_Surface_Conditions|    Road_Type|Special_Conditions_at_Site|Urban_or_Rural_Area|Weather_Conditions|Age_Band_of_Driver|Driver_Home_Area_Type|Propulsion_Code|Sex_of_Driver|Towing_and_Articulation|Vehicle_Location_Restricted_Lane|Vehicle_Manoeuvre|  Vehicle_Type|\n",
      "+-----------------+-----------------------------------+-----------------------------------------+-------------+----------------+-----------------+--------------+-------------------+-------------+---------------+----------------+---------------+-----------------------+-------------+--------------------------+-------------------+------------------+------------------+---------------------+---------------+-------------+-----------------------+--------------------------------+-----------------+--------------+\n",
      "|              4.0|                                0.0|                                      0.0|         30.0|        7.410482|              0.0| (6,[0],[1.0])|      (7,[0],[1.0])|(7,[3],[1.0])| (10,[1],[1.0])|   (6,[0],[1.0])| (51,[0],[1.0])|          (6,[1],[1.0])|(6,[0],[1.0])|             (9,[0],[1.0])|      (3,[0],[1.0])|    (10,[1],[1.0])|    (13,[0],[1.0])|        (5,[0],[1.0])| (12,[0],[1.0])|(5,[1],[1.0])|          (8,[1],[1.0])|                  (12,[1],[1.0])|   (20,[0],[1.0])|(22,[1],[1.0])|\n",
      "|              0.0|                                0.0|                                      5.0|         30.0|             3.0|              0.0| (6,[3],[1.0])|      (7,[0],[1.0])|(7,[3],[1.0])| (10,[2],[1.0])|   (6,[0],[1.0])|(51,[50],[1.0])|          (6,[0],[1.0])|(6,[0],[1.0])|             (9,[0],[1.0])|      (3,[0],[1.0])|    (10,[0],[1.0])|    (13,[7],[1.0])|        (5,[2],[1.0])| (12,[2],[1.0])|(5,[3],[1.0])|          (8,[0],[1.0])|                  (12,[0],[1.0])|   (20,[5],[1.0])|(22,[0],[1.0])|\n",
      "|              4.0|                                0.0|                                      0.0|         30.0|        7.410482|              1.0| (6,[0],[1.0])|      (7,[0],[1.0])|(7,[4],[1.0])| (10,[0],[1.0])|   (6,[1],[1.0])| (51,[0],[1.0])|          (6,[3],[1.0])|(6,[0],[1.0])|             (9,[0],[1.0])|      (3,[0],[1.0])|    (10,[6],[1.0])|    (13,[0],[1.0])|        (5,[0],[1.0])| (12,[0],[1.0])|(5,[1],[1.0])|          (8,[1],[1.0])|                  (12,[1],[1.0])|   (20,[0],[1.0])|(22,[1],[1.0])|\n",
      "|              0.0|                                0.0|                                      0.0|         20.0|        7.410482|              0.0| (6,[1],[1.0])|      (7,[0],[1.0])|(7,[4],[1.0])| (10,[0],[1.0])|   (6,[0],[1.0])| (51,[0],[1.0])|          (6,[0],[1.0])|(6,[0],[1.0])|             (9,[0],[1.0])|      (3,[0],[1.0])|    (10,[0],[1.0])|    (13,[0],[1.0])|        (5,[0],[1.0])| (12,[0],[1.0])|(5,[1],[1.0])|          (8,[1],[1.0])|                  (12,[1],[1.0])|   (20,[0],[1.0])|(22,[1],[1.0])|\n",
      "|           1201.0|                                0.0|                                      0.0|         30.0|        7.410482|              0.0| (6,[0],[1.0])|      (7,[0],[1.0])|(7,[0],[1.0])| (10,[0],[1.0])|   (6,[1],[1.0])| (51,[0],[1.0])|          (6,[0],[1.0])|(6,[0],[1.0])|             (9,[0],[1.0])|      (3,[0],[1.0])|    (10,[0],[1.0])|    (13,[0],[1.0])|        (5,[0],[1.0])| (12,[0],[1.0])|(5,[1],[1.0])|          (8,[1],[1.0])|                  (12,[1],[1.0])|   (20,[0],[1.0])|(22,[1],[1.0])|\n",
      "|            112.0|                                0.0|                                      1.0|         30.0|        7.410482|              0.0| (6,[2],[1.0])|      (7,[0],[1.0])|(7,[4],[1.0])| (10,[0],[1.0])|   (6,[0],[1.0])| (51,[0],[1.0])|          (6,[0],[1.0])|(6,[0],[1.0])|             (9,[1],[1.0])|      (3,[0],[1.0])|    (10,[0],[1.0])|    (13,[0],[1.0])|        (5,[0],[1.0])| (12,[0],[1.0])|(5,[1],[1.0])|          (8,[1],[1.0])|                  (12,[1],[1.0])|   (20,[0],[1.0])|(22,[1],[1.0])|\n",
      "|              0.0|                                0.0|                                      0.0|         30.0|        7.410482|              1.0| (6,[1],[1.0])|      (7,[0],[1.0])|(7,[1],[1.0])| (10,[1],[1.0])|   (6,[0],[1.0])| (51,[0],[1.0])|          (6,[0],[1.0])|(6,[0],[1.0])|             (9,[0],[1.0])|      (3,[0],[1.0])|    (10,[0],[1.0])|    (13,[0],[1.0])|        (5,[0],[1.0])| (12,[0],[1.0])|(5,[1],[1.0])|          (8,[1],[1.0])|                  (12,[1],[1.0])|   (20,[0],[1.0])|(22,[1],[1.0])|\n",
      "|              0.0|                                0.0|                                      0.0|         30.0|        7.410482|              0.0| (6,[1],[1.0])|      (7,[0],[1.0])|(7,[5],[1.0])| (10,[3],[1.0])|   (6,[0],[1.0])| (51,[0],[1.0])|          (6,[0],[1.0])|(6,[2],[1.0])|             (9,[0],[1.0])|      (3,[0],[1.0])|    (10,[0],[1.0])|    (13,[0],[1.0])|        (5,[0],[1.0])| (12,[0],[1.0])|(5,[1],[1.0])|          (8,[1],[1.0])|                  (12,[1],[1.0])|   (20,[0],[1.0])|(22,[1],[1.0])|\n",
      "|            112.0|                                0.0|                                      0.0|         30.0|             4.0|              0.0| (6,[0],[1.0])|      (7,[0],[1.0])|(7,[0],[1.0])| (10,[0],[1.0])|   (6,[0],[1.0])| (51,[0],[1.0])|          (6,[0],[1.0])|(6,[0],[1.0])|             (9,[0],[1.0])|      (3,[0],[1.0])|    (10,[0],[1.0])|    (13,[4],[1.0])|        (5,[1],[1.0])| (12,[2],[1.0])|(5,[0],[1.0])|          (8,[0],[1.0])|                  (12,[0],[1.0])|   (20,[1],[1.0])|(22,[2],[1.0])|\n",
      "|            272.0|                                0.0|                                      1.0|         30.0|        7.410482|              0.0| (6,[2],[1.0])|      (7,[0],[1.0])|(7,[1],[1.0])| (10,[1],[1.0])|   (6,[1],[1.0])| (51,[0],[1.0])|          (6,[0],[1.0])|(6,[0],[1.0])|             (9,[0],[1.0])|      (3,[0],[1.0])|    (10,[0],[1.0])|    (13,[0],[1.0])|        (5,[0],[1.0])| (12,[0],[1.0])|(5,[1],[1.0])|          (8,[1],[1.0])|                  (12,[1],[1.0])|   (20,[0],[1.0])|(22,[1],[1.0])|\n",
      "|           2217.0|                                0.0|                                      0.0|         30.0|        7.410482|              0.0| (6,[0],[1.0])|      (7,[0],[1.0])|(7,[1],[1.0])| (10,[0],[1.0])|   (6,[0],[1.0])| (51,[0],[1.0])|          (6,[0],[1.0])|(6,[0],[1.0])|             (9,[0],[1.0])|      (3,[0],[1.0])|    (10,[0],[1.0])|    (13,[0],[1.0])|        (5,[0],[1.0])| (12,[0],[1.0])|(5,[1],[1.0])|          (8,[1],[1.0])|                  (12,[1],[1.0])|   (20,[0],[1.0])|(22,[1],[1.0])|\n",
      "|            214.0|                                0.0|                                      5.0|         30.0|        7.410482|              0.0| (6,[0],[1.0])|      (7,[0],[1.0])|(7,[6],[1.0])| (10,[2],[1.0])|   (6,[0],[1.0])| (51,[0],[1.0])|          (6,[0],[1.0])|(6,[0],[1.0])|             (9,[0],[1.0])|      (3,[0],[1.0])|    (10,[0],[1.0])|    (13,[0],[1.0])|        (5,[0],[1.0])| (12,[0],[1.0])|(5,[1],[1.0])|          (8,[1],[1.0])|                  (12,[1],[1.0])|   (20,[0],[1.0])|(22,[1],[1.0])|\n",
      "|           2206.0|                                0.0|                                      0.0|         30.0|        7.410482|              0.0| (6,[0],[1.0])|      (7,[0],[1.0])|(7,[5],[1.0])| (10,[1],[1.0])|   (6,[0],[1.0])| (51,[0],[1.0])|          (6,[0],[1.0])|(6,[0],[1.0])|             (9,[0],[1.0])|      (3,[0],[1.0])|    (10,[0],[1.0])|    (13,[0],[1.0])|        (5,[0],[1.0])| (12,[0],[1.0])|(5,[1],[1.0])|          (8,[1],[1.0])|                  (12,[1],[1.0])|   (20,[0],[1.0])|(22,[1],[1.0])|\n",
      "|            100.0|                                0.0|                                      1.0|         30.0|        7.410482|              0.0| (6,[0],[1.0])|      (7,[0],[1.0])|(7,[0],[1.0])| (10,[1],[1.0])|   (6,[1],[1.0])| (51,[0],[1.0])|          (6,[0],[1.0])|(6,[0],[1.0])|             (9,[0],[1.0])|      (3,[0],[1.0])|    (10,[0],[1.0])|    (13,[0],[1.0])|        (5,[0],[1.0])| (12,[0],[1.0])|(5,[1],[1.0])|          (8,[1],[1.0])|                  (12,[1],[1.0])|   (20,[0],[1.0])|(22,[1],[1.0])|\n",
      "|            205.0|                                0.0|                                      1.0|         30.0|             3.0|              0.0| (6,[2],[1.0])|      (7,[0],[1.0])|(7,[4],[1.0])| (10,[1],[1.0])|   (6,[1],[1.0])| (51,[0],[1.0])|          (6,[0],[1.0])|(6,[0],[1.0])|             (9,[0],[1.0])|      (3,[0],[1.0])|    (10,[0],[1.0])|    (13,[8],[1.0])|        (5,[1],[1.0])| (12,[1],[1.0])|(5,[2],[1.0])|          (8,[0],[1.0])|                  (12,[0],[1.0])|   (20,[1],[1.0])|(22,[0],[1.0])|\n",
      "|              0.0|                                0.0|                                      0.0|         30.0|        7.410482|              1.0| (6,[1],[1.0])|      (7,[0],[1.0])|(7,[4],[1.0])| (10,[0],[1.0])|   (6,[0],[1.0])| (51,[0],[1.0])|          (6,[0],[1.0])|(6,[0],[1.0])|             (9,[0],[1.0])|      (3,[0],[1.0])|    (10,[0],[1.0])|    (13,[0],[1.0])|        (5,[0],[1.0])| (12,[0],[1.0])|(5,[1],[1.0])|          (8,[1],[1.0])|                  (12,[1],[1.0])|   (20,[0],[1.0])|(22,[1],[1.0])|\n",
      "|             21.0|                                0.0|                                      1.0|         30.0|             4.0|              0.0| (6,[0],[1.0])|      (7,[0],[1.0])|(7,[2],[1.0])| (10,[0],[1.0])|   (6,[0],[1.0])| (51,[0],[1.0])|          (6,[0],[1.0])|(6,[0],[1.0])|             (9,[0],[1.0])|      (3,[0],[1.0])|    (10,[0],[1.0])|    (13,[3],[1.0])|        (5,[1],[1.0])| (12,[2],[1.0])|(5,[0],[1.0])|          (8,[0],[1.0])|                  (12,[0],[1.0])|   (20,[4],[1.0])|(22,[2],[1.0])|\n",
      "|            208.0|                                0.0|                                      0.0|         30.0|             8.0|              0.0| (6,[0],[1.0])|      (7,[0],[1.0])|(7,[0],[1.0])| (10,[0],[1.0])|   (6,[1],[1.0])| (51,[0],[1.0])|          (6,[0],[1.0])|(6,[0],[1.0])|             (9,[0],[1.0])|      (3,[0],[1.0])|    (10,[5],[1.0])|    (13,[1],[1.0])|        (5,[1],[1.0])| (12,[1],[1.0])|(5,[2],[1.0])|          (8,[0],[1.0])|                  (12,[0],[1.0])|   (20,[1],[1.0])|(22,[0],[1.0])|\n",
      "|              0.0|                                0.0|                                      0.0|         30.0|        7.410482|              1.0| (6,[1],[1.0])|      (7,[0],[1.0])|(7,[0],[1.0])| (10,[0],[1.0])|   (6,[0],[1.0])| (51,[0],[1.0])|          (6,[0],[1.0])|(6,[0],[1.0])|             (9,[0],[1.0])|      (3,[0],[1.0])|    (10,[0],[1.0])|    (13,[0],[1.0])|        (5,[0],[1.0])| (12,[0],[1.0])|(5,[1],[1.0])|          (8,[1],[1.0])|                  (12,[1],[1.0])|   (20,[0],[1.0])|(22,[1],[1.0])|\n",
      "|            214.0|                                0.0|                                      4.0|         30.0|        7.410482|              0.0| (6,[0],[1.0])|      (7,[0],[1.0])|(7,[0],[1.0])| (10,[1],[1.0])|   (6,[1],[1.0])| (51,[0],[1.0])|          (6,[0],[1.0])|(6,[0],[1.0])|             (9,[0],[1.0])|      (3,[0],[1.0])|    (10,[0],[1.0])|    (13,[0],[1.0])|        (5,[0],[1.0])| (12,[0],[1.0])|(5,[1],[1.0])|          (8,[1],[1.0])|                  (12,[1],[1.0])|   (20,[0],[1.0])|(22,[1],[1.0])|\n",
      "+-----------------+-----------------------------------+-----------------------------------------+-------------+----------------+-----------------+--------------+-------------------+-------------+---------------+----------------+---------------+-----------------------+-------------+--------------------------+-------------------+------------------+------------------+---------------------+---------------+-------------+-----------------------+--------------------------------+-----------------+--------------+\n",
      "only showing top 20 rows\n",
      "\n"
     ]
    }
   ],
   "source": [
    "dfhot.show()"
   ]
  },
  {
   "cell_type": "code",
   "execution_count": 29,
   "metadata": {},
   "outputs": [],
   "source": [
    "# Merging the data with Vector Assembler.\n",
    "from pyspark.ml.feature import VectorAssembler\n",
    "# except the label col.\n",
    "va = VectorAssembler(outputCol=\"features\", inputCols=features)\n",
    "df_va = va.transform(dfhot).select(\"features\", \"Accident_Severity\").withColumnRenamed(\"Accident_Severity\", \"label\")"
   ]
  },
  {
   "cell_type": "code",
   "execution_count": 30,
   "metadata": {
    "scrolled": false
   },
   "outputs": [
    {
     "name": "stdout",
     "output_type": "stream",
     "text": [
      "+-----+------+\n",
      "|label| count|\n",
      "+-----+------+\n",
      "|  0.0|452989|\n",
      "|  1.0|114444|\n",
      "|  2.0| 11093|\n",
      "+-----+------+\n",
      "\n"
     ]
    }
   ],
   "source": [
    "df_va.groupBy(\"label\").count().show()"
   ]
  },
  {
   "cell_type": "markdown",
   "metadata": {},
   "source": [
    "We are dealing with **highly imbalanced** data, we need to resampling before building our model"
   ]
  },
  {
   "cell_type": "code",
   "execution_count": 31,
   "metadata": {},
   "outputs": [
    {
     "name": "stdout",
     "output_type": "stream",
     "text": [
      "+--------------------+\n",
      "|            features|\n",
      "+--------------------+\n",
      "|(223,[0,3,4,5,11,...|\n",
      "+--------------------+\n",
      "only showing top 1 row\n",
      "\n"
     ]
    }
   ],
   "source": [
    "df_va.select(\"features\").show(1)"
   ]
  },
  {
   "cell_type": "markdown",
   "metadata": {},
   "source": [
    "<a id='step4'></a>\n",
    "## Step 4: Modeling"
   ]
  },
  {
   "cell_type": "markdown",
   "metadata": {},
   "source": [
    "### Split into training/test"
   ]
  },
  {
   "cell_type": "code",
   "execution_count": 68,
   "metadata": {},
   "outputs": [],
   "source": [
    "pendtsets = df_va.randomSplit([0.8, 0.2],seed = 697) \n",
    "train = pendtsets[0].cache()\n",
    "test = pendtsets[1].cache()"
   ]
  },
  {
   "cell_type": "markdown",
   "metadata": {},
   "source": [
    "### Resampling the training set"
   ]
  },
  {
   "cell_type": "markdown",
   "metadata": {},
   "source": [
    "1. Upsample the minority group\n",
    "2. Downsample the majority group"
   ]
  },
  {
   "cell_type": "code",
   "execution_count": 69,
   "metadata": {},
   "outputs": [],
   "source": [
    "down_sampling_ratio = train.groupBy(\"label\").count().collect(\n",
    ")[1][1]*1.0/(train.groupBy(\"label\").count().collect()[0][1])"
   ]
  },
  {
   "cell_type": "code",
   "execution_count": 70,
   "metadata": {},
   "outputs": [],
   "source": [
    "over_sampling_ratio = train.groupBy(\"label\").count().collect(\n",
    ")[1][1]/(train.groupBy(\"label\").count().collect()[2][1])"
   ]
  },
  {
   "cell_type": "code",
   "execution_count": 71,
   "metadata": {},
   "outputs": [],
   "source": [
    "train_resampled = train.sampleBy(\"label\",fractions={0.0:float(down_sampling_ratio), 1.0:1})"
   ]
  },
  {
   "cell_type": "code",
   "execution_count": 72,
   "metadata": {},
   "outputs": [],
   "source": [
    "fatal = train.filter(\"label == 2.0\").sample(withReplacement=True,fraction=float(over_sampling_ratio))\n",
    "train_data = train_resampled.unionAll(fatal)"
   ]
  },
  {
   "cell_type": "code",
   "execution_count": 73,
   "metadata": {},
   "outputs": [
    {
     "name": "stdout",
     "output_type": "stream",
     "text": [
      "+-----+-----+\n",
      "|label|count|\n",
      "+-----+-----+\n",
      "|  0.0|91281|\n",
      "|  1.0|91548|\n",
      "|  2.0|91907|\n",
      "+-----+-----+\n",
      "\n"
     ]
    }
   ],
   "source": [
    "train_data.groupBy(\"label\").count().show()"
   ]
  },
  {
   "cell_type": "markdown",
   "metadata": {},
   "source": [
    "### 1. RandomForestClassifer"
   ]
  },
  {
   "cell_type": "code",
   "execution_count": 75,
   "metadata": {
    "scrolled": true
   },
   "outputs": [
    {
     "name": "stdout",
     "output_type": "stream",
     "text": [
      "CPU times: user 55.8 ms, sys: 8.46 ms, total: 64.3 ms\n",
      "Wall time: 3min 29s\n"
     ]
    }
   ],
   "source": [
    "%%time\n",
    "from pyspark.ml.classification import RandomForestClassifier\n",
    "rf = RandomForestClassifier(maxDepth=10)\n",
    "rfmodel = rf.fit(train_data)"
   ]
  },
  {
   "cell_type": "markdown",
   "metadata": {},
   "source": [
    "### 2. DecisionTreeClassifer"
   ]
  },
  {
   "cell_type": "code",
   "execution_count": 76,
   "metadata": {},
   "outputs": [
    {
     "name": "stdout",
     "output_type": "stream",
     "text": [
      "CPU times: user 25.8 ms, sys: 941 µs, total: 26.7 ms\n",
      "Wall time: 1min\n"
     ]
    }
   ],
   "source": [
    "%%time\n",
    "from pyspark.ml.classification import DecisionTreeClassifier\n",
    "dt = DecisionTreeClassifier(maxDepth=10,impurity=\"entropy\", seed=2019)\n",
    "dtmodel = dt.fit(train_data)"
   ]
  },
  {
   "cell_type": "markdown",
   "metadata": {},
   "source": [
    "### 3. NaiveBayes"
   ]
  },
  {
   "cell_type": "code",
   "execution_count": 77,
   "metadata": {},
   "outputs": [
    {
     "name": "stdout",
     "output_type": "stream",
     "text": [
      "CPU times: user 16.2 ms, sys: 570 µs, total: 16.8 ms\n",
      "Wall time: 2.17 s\n"
     ]
    }
   ],
   "source": [
    "%%time\n",
    "from pyspark.ml.classification import NaiveBayes\n",
    "nb = NaiveBayes()\n",
    "nbmodel = nb.fit(train_data)"
   ]
  },
  {
   "cell_type": "markdown",
   "metadata": {},
   "source": [
    "<a id='step5'></a>\n",
    "## Step 5: Prediction and Model Evaluation"
   ]
  },
  {
   "cell_type": "markdown",
   "metadata": {},
   "source": [
    "### 1. F1_Score Analysis"
   ]
  },
  {
   "cell_type": "code",
   "execution_count": 78,
   "metadata": {},
   "outputs": [],
   "source": [
    "from pyspark.ml.evaluation import MulticlassClassificationEvaluator\n",
    "rfpredicts = rfmodel.transform(test)\n",
    "dtpredicts = dtmodel.transform(test)\n",
    "nbpredicts = nbmodel.transform(test)"
   ]
  },
  {
   "cell_type": "code",
   "execution_count": 79,
   "metadata": {},
   "outputs": [],
   "source": [
    "from __future__ import (absolute_import, division,\n",
    "                        print_function, unicode_literals)"
   ]
  },
  {
   "cell_type": "code",
   "execution_count": 80,
   "metadata": {
    "scrolled": true
   },
   "outputs": [
    {
     "name": "stdout",
     "output_type": "stream",
     "text": [
      "F1_rf =  0.553814\n",
      "F1_dt =  0.582893\n",
      "F1_nb =  0.43958\n"
     ]
    }
   ],
   "source": [
    "evaluator = MulticlassClassificationEvaluator(\n",
    "    labelCol=\"label\", predictionCol=\"prediction\", metricName=\"f1\")\n",
    "F1_rf = evaluator.evaluate(rfpredicts)\n",
    "F1_dt = evaluator.evaluate(dtpredicts)\n",
    "F1_nb = evaluator.evaluate(nbpredicts)\n",
    "print(\"F1_rf =  %g\" % F1_rf)\n",
    "print(\"F1_dt =  %g\" % F1_dt)\n",
    "print(\"F1_nb =  %g\" % F1_nb)"
   ]
  },
  {
   "cell_type": "code",
   "execution_count": 81,
   "metadata": {},
   "outputs": [
    {
     "name": "stdout",
     "output_type": "stream",
     "text": [
      "F1_rf_train_ =  0.479504\n",
      "F1_dt_train_ =  0.447107\n",
      "F1_nb_train_ =  0.393228\n"
     ]
    }
   ],
   "source": [
    "rf_train_predicts = rfmodel.transform(train_data)\n",
    "dt_train_predicts = dtmodel.transform(train_data)\n",
    "nb_train_predicts = nbmodel.transform(train_data)\n",
    "F1_rf_train_ = evaluator.evaluate(rf_train_predicts)\n",
    "F1_dt_train_ = evaluator.evaluate(dt_train_predicts)\n",
    "F1_nb_train_ = evaluator.evaluate(nb_train_predicts)\n",
    "print(\"F1_rf_train_ =  %g\" % F1_rf_train_)\n",
    "print(\"F1_dt_train_ =  %g\" % F1_dt_train_)\n",
    "print(\"F1_nb_train_ =  %g\" % F1_nb_train_)"
   ]
  },
  {
   "cell_type": "markdown",
   "metadata": {},
   "source": [
    "### 2. Recall Matrix Analysis"
   ]
  },
  {
   "cell_type": "code",
   "execution_count": 82,
   "metadata": {},
   "outputs": [],
   "source": [
    "def recall_rate(predictions):\n",
    "    \"\"\"Compute recall per class.\"\"\"\n",
    "    actual_positives = predictions.groupBy('label').count()\n",
    "    true_positives = predictions.groupBy('label', 'prediction').count().filter('label == prediction')\n",
    "    output = (actual_positives.join(true_positives, \"label\")\n",
    "                             .withColumn(\"recall\",\n",
    "                             true_positives['count'] / actual_positives['count'])\n",
    "                             .select(\"label\", \"recall\"))\n",
    "    return output"
   ]
  },
  {
   "cell_type": "code",
   "execution_count": 83,
   "metadata": {
    "scrolled": true
   },
   "outputs": [
    {
     "name": "stdout",
     "output_type": "stream",
     "text": [
      "Random_Forest_Recall_Rate\n",
      "+-----+------------------+\n",
      "|label|            recall|\n",
      "+-----+------------------+\n",
      "|  0.0|0.5256262341638748|\n",
      "|  1.0|0.2589660601819454|\n",
      "|  2.0|0.6083733100741386|\n",
      "+-----+------------------+\n",
      "\n",
      "Decision_Tree_Recall_Rate\n",
      "+-----+-------------------+\n",
      "|label|             recall|\n",
      "+-----+-------------------+\n",
      "|  0.0| 0.5994320072774068|\n",
      "|  1.0|0.17122988103568929|\n",
      "|  2.0| 0.5856955952900131|\n",
      "+-----+-------------------+\n",
      "\n",
      "Naive_Bayes_Recall_Rate\n",
      "+-----+-------------------+\n",
      "|label|             recall|\n",
      "+-----+-------------------+\n",
      "|  0.0|0.36734263717246124|\n",
      "|  1.0|0.22266445066480056|\n",
      "|  2.0| 0.6467509812472743|\n",
      "+-----+-------------------+\n",
      "\n"
     ]
    }
   ],
   "source": [
    "rf_recall = recall_rate(rfpredicts)\n",
    "dt_recall = recall_rate(dtpredicts)\n",
    "nb_recall = recall_rate(nbpredicts)\n",
    "\n",
    "print(\"Random_Forest_Recall_Rate\")\n",
    "rf_recall.show()\n",
    "print(\"Decision_Tree_Recall_Rate\")\n",
    "dt_recall.show()\n",
    "print(\"Naive_Bayes_Recall_Rate\")\n",
    "nb_recall.show()"
   ]
  },
  {
   "cell_type": "code",
   "execution_count": 53,
   "metadata": {},
   "outputs": [],
   "source": [
    "sc.stop()"
   ]
  }
 ],
 "metadata": {
  "anaconda-cloud": {},
  "kernelspec": {
   "display_name": "Python 2",
   "language": "python",
   "name": "python2"
  },
  "language_info": {
   "codemirror_mode": {
    "name": "ipython",
    "version": 2
   },
   "file_extension": ".py",
   "mimetype": "text/x-python",
   "name": "python",
   "nbconvert_exporter": "python",
   "pygments_lexer": "ipython2",
   "version": "2.7.15"
  },
  "varInspector": {
   "cols": {
    "lenName": 16,
    "lenType": 16,
    "lenVar": 40
   },
   "kernels_config": {
    "python": {
     "delete_cmd_postfix": "",
     "delete_cmd_prefix": "del ",
     "library": "var_list.py",
     "varRefreshCmd": "print(var_dic_list())"
    },
    "r": {
     "delete_cmd_postfix": ") ",
     "delete_cmd_prefix": "rm(",
     "library": "var_list.r",
     "varRefreshCmd": "cat(var_dic_list()) "
    }
   },
   "types_to_exclude": [
    "module",
    "function",
    "builtin_function_or_method",
    "instance",
    "_Feature"
   ],
   "window_display": false
  }
 },
 "nbformat": 4,
 "nbformat_minor": 1
}
